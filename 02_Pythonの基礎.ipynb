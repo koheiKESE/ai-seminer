{
  "nbformat": 4,
  "nbformat_minor": 0,
  "metadata": {
    "colab": {
      "provenance": [],
      "authorship_tag": "ABX9TyPXopvvQqAKFbcLWOe6HWfp",
      "include_colab_link": true
    },
    "kernelspec": {
      "name": "python3",
      "display_name": "Python 3"
    },
    "language_info": {
      "name": "python"
    }
  },
  "cells": [
    {
      "cell_type": "markdown",
      "metadata": {
        "id": "view-in-github",
        "colab_type": "text"
      },
      "source": [
        "<a href=\"https://colab.research.google.com/github/koheiKESE/ai-seminer/blob/main/02_Python%E3%81%AE%E5%9F%BA%E7%A4%8E.ipynb\" target=\"_parent\"><img src=\"https://colab.research.google.com/assets/colab-badge.svg\" alt=\"Open In Colab\"/></a>"
      ]
    },
    {
      "cell_type": "markdown",
      "source": [
        "# Pythonの基礎1\n",
        "　プログラミング言語Pythonは、インタープリタ型の高水準言語です。\n",
        "ここでは、 本セミナーに必用最低限な文法を解説していきます。 \n",
        "\n",
        "　解説用のコードセルの下に練習用のコードセルを配置しましたので、そこに各自コードを書きこんで、Pythonの動作を体験しながら進めていくことをオススメします。  \n",
        "\n",
        "　詳しいPythonの使用方法を知りたい場合は、書籍の購入やweb上の無料解説サイトを使用することをオススメします。"
      ],
      "metadata": {
        "id": "TgLc7qEHNvMp"
      }
    },
    {
      "cell_type": "markdown",
      "source": [
        "## 1. 変数\n",
        "**変数**には**値**を入れることができます。  \n",
        "以下の例では、変数`a`に6425という値を入れています。  \n",
        "`print(a)`で、変数`a`に入った値を表示することができます。"
      ],
      "metadata": {
        "id": "j6go1i1YRfmM"
      }
    },
    {
      "cell_type": "code",
      "execution_count": null,
      "metadata": {
        "id": "PiEI9QzCNYgQ",
        "colab": {
          "base_uri": "https://localhost:8080/"
        },
        "outputId": "90d7b31f-28c0-4843-b28b-344e2ff98c14"
      },
      "outputs": [
        {
          "output_type": "stream",
          "name": "stdout",
          "text": [
            "6425\n"
          ]
        }
      ],
      "source": [
        "a = 6425\n",
        "print(a)"
      ]
    },
    {
      "cell_type": "code",
      "source": [
        "a = 123\n",
        "b = 245\n"
      ],
      "metadata": {
        "id": "J3JA_pLG_3sf"
      },
      "execution_count": null,
      "outputs": []
    },
    {
      "cell_type": "code",
      "source": [
        "a"
      ],
      "metadata": {
        "colab": {
          "base_uri": "https://localhost:8080/"
        },
        "id": "BkPPXLPEAEmh",
        "outputId": "cd31f1b7-41e8-4f54-a5e7-5b9276ca7c5f"
      },
      "execution_count": null,
      "outputs": [
        {
          "output_type": "execute_result",
          "data": {
            "text/plain": [
              "123"
            ]
          },
          "metadata": {},
          "execution_count": 3
        }
      ]
    },
    {
      "cell_type": "code",
      "source": [
        "a# 練習用\n"
      ],
      "metadata": {
        "id": "lF3qysCoRo2q"
      },
      "execution_count": null,
      "outputs": []
    },
    {
      "cell_type": "markdown",
      "source": [
        "なお、`#`以降の記述はコメントとなり、プログラムとして認識されません。メモなどに活用しましょう。  \n",
        "変数には小数の値を入れることもできます。  \n",
        "以下では、`b`に42.195という小数の値を入れています。  "
      ],
      "metadata": {
        "id": "TlJq63lsR1cV"
      }
    },
    {
      "cell_type": "code",
      "source": [
        "b = 42.195\n",
        "print(b)"
      ],
      "metadata": {
        "id": "Siw7hIC6R0u3"
      },
      "execution_count": null,
      "outputs": []
    },
    {
      "cell_type": "code",
      "source": [
        "# 練習用\n"
      ],
      "metadata": {
        "id": "xhAUhAf5R3wt"
      },
      "execution_count": null,
      "outputs": []
    },
    {
      "cell_type": "markdown",
      "source": [
        "変数には文章を入れることもできます。  \n",
        "`\"\"`もしくは`''` で囲まれた文章は文字列として認識され、値として変数に入れることができます。  \n"
      ],
      "metadata": {
        "id": "VtkwsV7cR5cC"
      }
    },
    {
      "cell_type": "code",
      "source": [
        "c = \"Hello World！\"\n",
        "print(c)"
      ],
      "metadata": {
        "id": "xkDMSkmnR8GM",
        "colab": {
          "base_uri": "https://localhost:8080/"
        },
        "outputId": "3626fa22-65fa-4108-bb34-b389ed6501fe"
      },
      "execution_count": null,
      "outputs": [
        {
          "output_type": "stream",
          "name": "stdout",
          "text": [
            "Hello World！\n"
          ]
        }
      ]
    },
    {
      "cell_type": "code",
      "source": [
        "# 練習用\n"
      ],
      "metadata": {
        "id": "wq_XwLjQR9wI"
      },
      "execution_count": null,
      "outputs": []
    },
    {
      "cell_type": "markdown",
      "source": [
        "変数名には、アルファベットの他に`_`（アンダーバー）や数字を使用できます。  \n",
        "しかし、変数名の先頭を数字にすることはできません。  \n",
        "また、変数名の先頭を'_'（アンダーバー）にすることは、推奨できません。(Pythonでは、特別な場合で使用するため)"
      ],
      "metadata": {
        "id": "oaTDtR0ZSCPe"
      }
    },
    {
      "cell_type": "code",
      "source": [
        "file_name = \"image.png\"\n",
        "print(file_name)\n",
        "\n",
        "test567 = 567\n",
        "print(number567)"
      ],
      "metadata": {
        "id": "Pt1_MGXpSGtq"
      },
      "execution_count": null,
      "outputs": []
    },
    {
      "cell_type": "code",
      "source": [
        "# 練習用\n"
      ],
      "metadata": {
        "id": "OqYasrx-SIqu"
      },
      "execution_count": null,
      "outputs": []
    },
    {
      "cell_type": "markdown",
      "source": [
        "このような変数の概念は、以降Pythonを学んでいくための基盤となります。"
      ],
      "metadata": {
        "id": "tfohx3b0SLwa"
      }
    },
    {
      "cell_type": "code",
      "source": [
        "## 2. 四則演算\n",
        "様々な演算子を使って四則演算を行うことができます。"
      ],
      "metadata": {
        "id": "mbOEBFfgSPNi"
      },
      "execution_count": null,
      "outputs": []
    },
    {
      "cell_type": "code",
      "source": [
        "a = 2\n",
        "b = 5\n",
        "\n",
        "c = a + b  # 足し算\n",
        "print(c)\n",
        "\n",
        "d = a - b  # 引き算\n",
        "print(d)\n",
        "\n",
        "e = a * b  # 掛け算\n",
        "print(e)\n",
        "\n",
        "f = a / b  # 割り算（小数）\n",
        "print(f)\n",
        "\n",
        "g = a // b  # 割り算（整数）\n",
        "print(g)\n",
        "\n",
        "h = a % b  # 余り\n",
        "print(h)"
      ],
      "metadata": {
        "id": "Rq7mevVaSRrY"
      },
      "execution_count": null,
      "outputs": []
    },
    {
      "cell_type": "code",
      "source": [
        "# 練習用\n"
      ],
      "metadata": {
        "id": "emea14MuSUsh"
      },
      "execution_count": null,
      "outputs": []
    },
    {
      "cell_type": "markdown",
      "source": [
        "なお、`+`の演算子は文字列の結合に使うこともできます。"
      ],
      "metadata": {
        "id": "MW3G8nTZSflF"
      }
    },
    {
      "cell_type": "code",
      "source": [
        "a = \"Hello\"\n",
        "b = \"World\"\n",
        "\n",
        "c = a + b\n",
        "print(c)"
      ],
      "metadata": {
        "id": "RN8NEWB_SbtG",
        "colab": {
          "base_uri": "https://localhost:8080/"
        },
        "outputId": "9cfeb283-3b64-4021-d0ba-ecefa9cbc2fb"
      },
      "execution_count": null,
      "outputs": [
        {
          "output_type": "stream",
          "name": "stdout",
          "text": [
            "HelloWorld\n"
          ]
        }
      ]
    },
    {
      "cell_type": "code",
      "source": [
        "# 練習用\n"
      ],
      "metadata": {
        "id": "yl_rrB8bSeJV"
      },
      "execution_count": null,
      "outputs": []
    },
    {
      "cell_type": "code",
      "source": [
        "## 3. Bool値と比較演算子\n",
        "変数には`True`もしくは`False`の値を入れることができます。  \n",
        "これらの値は、**Bool値**と呼ばれます。  \n",
        "Bool値は`True`もしくは`False`のいずれかしかとれません。"
      ],
      "metadata": {
        "id": "waqGxhptSo0C"
      },
      "execution_count": null,
      "outputs": []
    },
    {
      "cell_type": "code",
      "source": [
        "a = True\n",
        "b = False\n",
        "\n",
        "print(a)\n",
        "print(b)"
      ],
      "metadata": {
        "id": "cNmHfpTGSsy1"
      },
      "execution_count": null,
      "outputs": []
    },
    {
      "cell_type": "code",
      "source": [
        "# 練習用\n"
      ],
      "metadata": {
        "id": "fR6ocd-ESvKP"
      },
      "execution_count": null,
      "outputs": []
    },
    {
      "cell_type": "markdown",
      "source": [
        "**比較演算子**を使うことで、値を比較した結果をBool値として得ることができます。  \n",
        "`>`や`<`などの比較演算子は、左右の値を比較します。  \n"
      ],
      "metadata": {
        "id": "uaPgAlZHSwjg"
      }
    },
    {
      "cell_type": "code",
      "source": [
        "c = 3\n",
        "d = 4\n",
        "\n",
        "e = c > d  # cがdよりも大きいかどうか\n",
        "print(e)\n",
        "\n",
        "f = c < d  # cがdよりも小さいかどうか\n",
        "print(f)\n",
        "\n",
        "g = c >= d  # cがd以上かどうか\n",
        "print(g)\n",
        "\n",
        "h = c <= d  # cがd以下かどうか\n",
        "print(h)\n",
        "\n",
        "i = c == d  # cとdが等しいかどうか\n",
        "print(i)\n",
        "\n",
        "j = c != d  # cとdが等しくないか\n",
        "print(j)"
      ],
      "metadata": {
        "id": "hTwKxFuxSyyh"
      },
      "execution_count": null,
      "outputs": []
    },
    {
      "cell_type": "code",
      "source": [
        "# 練習用\n"
      ],
      "metadata": {
        "id": "1gQTHKNIS30R"
      },
      "execution_count": null,
      "outputs": []
    },
    {
      "cell_type": "markdown",
      "source": [
        "## 4. 論理演算子\n",
        "**論理演算子**を使うと、Bool値の演算を行うことができます。"
      ],
      "metadata": {
        "id": "Zjrjb7KOS4ZN"
      }
    },
    {
      "cell_type": "code",
      "source": [
        "a = 3\n",
        "b = 4\n",
        "c = 5\n",
        "\n",
        "d = a < b and b < c  # 両者がTrueであればTrue\n",
        "print(d)\n",
        "\n",
        "e = a < b or b > c  # 片方がTrueであればTrue\n",
        "print(e)\n",
        "\n",
        "f = not a < b  # Bool値を反転\n",
        "print(f)"
      ],
      "metadata": {
        "id": "1z44RS2xS8Ql"
      },
      "execution_count": null,
      "outputs": []
    },
    {
      "cell_type": "code",
      "source": [
        "# 練習用\n"
      ],
      "metadata": {
        "id": "xOJntGwPS_mW"
      },
      "execution_count": null,
      "outputs": []
    },
    {
      "cell_type": "markdown",
      "source": [
        "- python以外の外部モジュールを使う場合はインポート"
      ],
      "metadata": {
        "id": "C850do-fS__j"
      }
    },
    {
      "cell_type": "code",
      "source": [],
      "metadata": {
        "id": "gOgvNeARXgMz"
      },
      "execution_count": null,
      "outputs": []
    },
    {
      "cell_type": "code",
      "source": [
        "# グラフの描画"
      ],
      "metadata": {
        "id": "xKeDOk6mXgu7"
      },
      "execution_count": null,
      "outputs": []
    },
    {
      "cell_type": "code",
      "source": [
        "import matplotlib.pyplot as plt"
      ],
      "metadata": {
        "id": "alZXPeekXRoS"
      },
      "execution_count": null,
      "outputs": []
    },
    {
      "cell_type": "code",
      "source": [
        "a = [0, 1, 2, 3, 2, 1, 2, 3]"
      ],
      "metadata": {
        "id": "0MhSVKtCXUok"
      },
      "execution_count": null,
      "outputs": []
    },
    {
      "cell_type": "code",
      "source": [
        "plt.plot(a)\n",
        "plt.show()"
      ],
      "metadata": {
        "colab": {
          "base_uri": "https://localhost:8080/",
          "height": 265
        },
        "id": "Emc02gtXXYkE",
        "outputId": "0a39c1bb-8b8b-4df3-9c51-a0108c1f2bec"
      },
      "execution_count": null,
      "outputs": [
        {
          "output_type": "display_data",
          "data": {
            "text/plain": [
              "<Figure size 432x288 with 1 Axes>"
            ],
            "image/png": "[encoded data removed]"
          },
          "metadata": {
            "needs_background": "light"
          }
        }
      ]
    },
    {
      "cell_type": "code",
      "source": [],
      "metadata": {
        "id": "oROTrU5AXeUK"
      },
      "execution_count": null,
      "outputs": []
    }
  ]
}