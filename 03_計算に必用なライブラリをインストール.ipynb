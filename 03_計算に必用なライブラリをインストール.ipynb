{
  "nbformat": 4,
  "nbformat_minor": 0,
  "metadata": {
    "colab": {
      "name": "03_計算に必用なライブラリをインストール.ipynb",
      "provenance": [],
      "collapsed_sections": [],
      "mount_file_id": "1cXCdor80HgqN8t6HVG9OQFEIASdjv67N",
      "authorship_tag": "ABX9TyObwL4kdu/MmkNHBO0GOYUC",
      "include_colab_link": true
    },
    "kernelspec": {
      "name": "python3",
      "display_name": "Python 3"
    },
    "language_info": {
      "name": "python"
    },
    "accelerator": "GPU",
    "gpuClass": "standard"
  },
  "cells": [
    {
      "cell_type": "markdown",
      "metadata": {
        "id": "view-in-github",
        "colab_type": "text"
      },
      "source": [
        "<a href=\"https://colab.research.google.com/github/koheiKESE/ai-seminer/blob/main/03_%E8%A8%88%E7%AE%97%E3%81%AB%E5%BF%85%E7%94%A8%E3%81%AA%E3%83%A9%E3%82%A4%E3%83%96%E3%83%A9%E3%83%AA%E3%82%92%E3%82%A4%E3%83%B3%E3%82%B9%E3%83%88%E3%83%BC%E3%83%AB.ipynb\" target=\"_parent\"><img src=\"https://colab.research.google.com/assets/colab-badge.svg\" alt=\"Open In Colab\"/></a>"
      ]
    },
    {
      "cell_type": "markdown",
      "source": [
        "# 0. はじめに\n",
        "今回の演習で使用するAIライブラリはColabにインストールされていないので、自分でする必要がある。ここで、Colabは、接続が切れると、手動でインストールしたライブラリも初期化されてしまうため、Google Driveにライブラリを保存することで、初期化を回避する。\n",
        "\n"
      ],
      "metadata": {
        "id": "yTUt_del-x2h"
      }
    },
    {
      "cell_type": "markdown",
      "source": [
        "# 1. Google Driveをマウント\n",
        " Google Driveをマウントする方法は2つある。\n",
        " - 下記コードセルを実行する。\n",
        " - 左ペインのフォルダマークをクリック -> Googole Driveのロゴが書いてあるフォルダマークをクリック"
      ],
      "metadata": {
        "id": "rEL4F8Kt_yJg"
      }
    },
    {
      "cell_type": "code",
      "source": [
        "# Google Driveを /content/drive以下にマウント\n",
        "from google.colab import drive\n",
        "drive.mount('/content/drive')"
      ],
      "metadata": {
        "id": "LL1JcCjI_1FX"
      },
      "execution_count": null,
      "outputs": []
    },
    {
      "cell_type": "markdown",
      "source": [
        "# 2. Google Driveにインストールしたいライブラリをインストール\n",
        "\n",
        "!pip install --target {保存先のパス} {イントールしたいライブラリ名}\n",
        "\n",
        "今回は、保存先のパスとして、{/content/drive/MyDrive/Colab\\ Notebooks/my-modules}を指定する。\n",
        "\n"
      ],
      "metadata": {
        "id": "zgWkgzmAD97E"
      }
    },
    {
      "cell_type": "code",
      "source": [
        "# MMdetection\n",
        "!pip install --target /content/drive/MyDrive/Colab\\ Notebooks/my-modules mmdet\n",
        "!pip install --target /content/drive/MyDrive/Colab\\ Notebooks/my-modules mmcv-full"
      ],
      "metadata": {
        "colab": {
          "base_uri": "https://localhost:8080/",
          "height": 1000
        },
        "id": "dgVh_1CTDcyF",
        "outputId": "f605b43e-8936-4d61-f0ba-0d30fd8ecf4e"
      },
      "execution_count": 1,
      "outputs": [
        {
          "output_type": "stream",
          "name": "stdout",
          "text": [
            "Looking in indexes: https://pypi.org/simple, https://us-python.pkg.dev/colab-wheels/public/simple/\n",
            "Collecting mmdet\n",
            "  Downloading mmdet-2.25.0-py3-none-any.whl (1.4 MB)\n",
            "\u001b[K     |████████████████████████████████| 1.4 MB 4.3 MB/s \n",
            "\u001b[?25hCollecting terminaltables\n",
            "  Downloading terminaltables-3.1.10-py2.py3-none-any.whl (15 kB)\n",
            "Collecting numpy\n",
            "  Downloading numpy-1.21.6-cp37-cp37m-manylinux_2_12_x86_64.manylinux2010_x86_64.whl (15.7 MB)\n",
            "\u001b[K     |████████████████████████████████| 15.7 MB 39.4 MB/s \n",
            "\u001b[?25hCollecting pycocotools\n",
            "  Downloading pycocotools-2.0.4.tar.gz (106 kB)\n",
            "\u001b[K     |████████████████████████████████| 106 kB 31.6 MB/s \n",
            "\u001b[?25h  Installing build dependencies ... \u001b[?25l\u001b[?25hdone\n",
            "  Getting requirements to build wheel ... \u001b[?25l\u001b[?25hdone\n",
            "    Preparing wheel metadata ... \u001b[?25l\u001b[?25hdone\n",
            "Collecting six\n",
            "  Downloading six-1.16.0-py2.py3-none-any.whl (11 kB)\n",
            "Collecting matplotlib\n",
            "  Downloading matplotlib-3.5.2-cp37-cp37m-manylinux_2_5_x86_64.manylinux1_x86_64.whl (11.2 MB)\n",
            "\u001b[K     |████████████████████████████████| 11.2 MB 59.9 MB/s \n",
            "\u001b[?25hCollecting kiwisolver>=1.0.1\n",
            "  Downloading kiwisolver-1.4.3-cp37-cp37m-manylinux_2_5_x86_64.manylinux1_x86_64.whl (1.1 MB)\n",
            "\u001b[K     |████████████████████████████████| 1.1 MB 39.2 MB/s \n",
            "\u001b[?25hCollecting pillow>=6.2.0\n",
            "  Downloading Pillow-9.1.1-cp37-cp37m-manylinux_2_17_x86_64.manylinux2014_x86_64.whl (3.1 MB)\n",
            "\u001b[K     |████████████████████████████████| 3.1 MB 46.7 MB/s \n",
            "\u001b[?25hCollecting python-dateutil>=2.7\n",
            "  Downloading python_dateutil-2.8.2-py2.py3-none-any.whl (247 kB)\n",
            "\u001b[K     |████████████████████████████████| 247 kB 74.8 MB/s \n",
            "\u001b[?25hCollecting packaging>=20.0\n",
            "  Downloading packaging-21.3-py3-none-any.whl (40 kB)\n",
            "\u001b[K     |████████████████████████████████| 40 kB 4.4 MB/s \n",
            "\u001b[?25hCollecting pyparsing>=2.2.1\n",
            "  Downloading pyparsing-3.0.9-py3-none-any.whl (98 kB)\n",
            "\u001b[K     |████████████████████████████████| 98 kB 7.1 MB/s \n",
            "\u001b[?25hCollecting fonttools>=4.22.0\n",
            "  Downloading fonttools-4.33.3-py3-none-any.whl (930 kB)\n",
            "\u001b[K     |████████████████████████████████| 930 kB 43.0 MB/s \n",
            "\u001b[?25hCollecting cycler>=0.10\n",
            "  Downloading cycler-0.11.0-py3-none-any.whl (6.4 kB)\n",
            "Collecting typing-extensions\n",
            "  Downloading typing_extensions-4.2.0-py3-none-any.whl (24 kB)\n",
            "Building wheels for collected packages: pycocotools\n",
            "  Building wheel for pycocotools (PEP 517) ... \u001b[?25l\u001b[?25hdone\n",
            "  Created wheel for pycocotools: filename=pycocotools-2.0.4-cp37-cp37m-linux_x86_64.whl size=265253 sha256=ce3b4c97937d9685d7d918dcee1a486fe18425b58674d860153d710bffdeb0e2\n",
            "  Stored in directory: /root/.cache/pip/wheels/a3/5f/fa/f011e578cc76e1fc5be8dce30b3eb9fd00f337e744b3bba59b\n",
            "Successfully built pycocotools\n",
            "Installing collected packages: typing-extensions, six, pyparsing, python-dateutil, pillow, packaging, numpy, kiwisolver, fonttools, cycler, matplotlib, terminaltables, pycocotools, mmdet\n",
            "\u001b[31mERROR: pip's dependency resolver does not currently take into account all the packages that are installed. This behaviour is the source of the following dependency conflicts.\n",
            "thinc 8.0.17 requires typing-extensions<4.2.0,>=3.7.4.1; python_version < \"3.8\", but you have typing-extensions 4.2.0 which is incompatible.\n",
            "spacy 3.3.1 requires typing-extensions<4.2.0,>=3.7.4; python_version < \"3.8\", but you have typing-extensions 4.2.0 which is incompatible.\n",
            "google-colab 1.0.0 requires six~=1.15.0, but you have six 1.16.0 which is incompatible.\n",
            "datascience 0.10.6 requires folium==0.2.1, but you have folium 0.8.3 which is incompatible.\n",
            "albumentations 0.1.12 requires imgaug<0.2.7,>=0.2.5, but you have imgaug 0.2.9 which is incompatible.\u001b[0m\n",
            "Successfully installed cycler-0.11.0 fonttools-4.33.3 kiwisolver-1.4.3 matplotlib-3.5.2 mmdet-2.25.0 numpy-1.21.6 packaging-21.3 pillow-9.1.1 pycocotools-2.0.4 pyparsing-3.0.9 python-dateutil-2.8.2 six-1.16.0 terminaltables-3.1.10 typing-extensions-4.2.0\n"
          ]
        },
        {
          "output_type": "display_data",
          "data": {
            "application/vnd.colab-display-data+json": {
              "pip_warning": {
                "packages": [
                  "cycler",
                  "dateutil",
                  "kiwisolver",
                  "numpy"
                ]
              }
            }
          },
          "metadata": {}
        },
        {
          "output_type": "stream",
          "name": "stdout",
          "text": [
            "Looking in indexes: https://pypi.org/simple, https://us-python.pkg.dev/colab-wheels/public/simple/\n",
            "Collecting mmcv-full\n",
            "  Downloading mmcv-full-1.5.3.tar.gz (547 kB)\n",
            "\u001b[K     |████████████████████████████████| 547 kB 4.2 MB/s \n",
            "\u001b[?25hCollecting addict\n",
            "  Downloading addict-2.4.0-py3-none-any.whl (3.8 kB)\n",
            "Collecting numpy\n",
            "  Using cached numpy-1.21.6-cp37-cp37m-manylinux_2_12_x86_64.manylinux2010_x86_64.whl (15.7 MB)\n",
            "Collecting packaging\n",
            "  Using cached packaging-21.3-py3-none-any.whl (40 kB)\n",
            "Collecting Pillow\n",
            "  Using cached Pillow-9.1.1-cp37-cp37m-manylinux_2_17_x86_64.manylinux2014_x86_64.whl (3.1 MB)\n",
            "Collecting pyyaml\n",
            "  Downloading PyYAML-6.0-cp37-cp37m-manylinux_2_5_x86_64.manylinux1_x86_64.manylinux_2_12_x86_64.manylinux2010_x86_64.whl (596 kB)\n",
            "\u001b[K     |████████████████████████████████| 596 kB 59.5 MB/s \n",
            "\u001b[?25hCollecting yapf\n",
            "  Downloading yapf-0.32.0-py2.py3-none-any.whl (190 kB)\n",
            "\u001b[K     |████████████████████████████████| 190 kB 22.7 MB/s \n",
            "\u001b[?25hCollecting pyparsing!=3.0.5,>=2.0.2\n",
            "  Using cached pyparsing-3.0.9-py3-none-any.whl (98 kB)\n",
            "Building wheels for collected packages: mmcv-full\n",
            "  Building wheel for mmcv-full (setup.py) ... \u001b[?25l\u001b[?25hdone\n",
            "  Created wheel for mmcv-full: filename=mmcv_full-1.5.3-cp37-cp37m-linux_x86_64.whl size=21563616 sha256=aa31644217c137b4285ff88039c5c2fe12e1ec1b9951d235e8324b84ac5556e5\n",
            "  Stored in directory: /root/.cache/pip/wheels/af/a0/40/d1d24c7782930d2d72ac245ef2093b86f566da87f19132c145\n",
            "Successfully built mmcv-full\n",
            "Installing collected packages: pyparsing, yapf, pyyaml, Pillow, packaging, numpy, addict, mmcv-full\n",
            "\u001b[31mERROR: pip's dependency resolver does not currently take into account all the packages that are installed. This behaviour is the source of the following dependency conflicts.\n",
            "datascience 0.10.6 requires folium==0.2.1, but you have folium 0.8.3 which is incompatible.\n",
            "albumentations 0.1.12 requires imgaug<0.2.7,>=0.2.5, but you have imgaug 0.2.9 which is incompatible.\u001b[0m\n",
            "Successfully installed Pillow-9.1.1 addict-2.4.0 mmcv-full-1.5.3 numpy-1.21.6 packaging-21.3 pyparsing-3.0.9 pyyaml-6.0 yapf-0.32.0\n",
            "\u001b[33mWARNING: Target directory /content/drive/MyDrive/Colab Notebooks/my-modules/packaging already exists. Specify --upgrade to force replacement.\u001b[0m\n",
            "\u001b[33mWARNING: Target directory /content/drive/MyDrive/Colab Notebooks/my-modules/pyparsing already exists. Specify --upgrade to force replacement.\u001b[0m\n",
            "\u001b[33mWARNING: Target directory /content/drive/MyDrive/Colab Notebooks/my-modules/Pillow.libs already exists. Specify --upgrade to force replacement.\u001b[0m\n",
            "\u001b[33mWARNING: Target directory /content/drive/MyDrive/Colab Notebooks/my-modules/PIL already exists. Specify --upgrade to force replacement.\u001b[0m\n",
            "\u001b[33mWARNING: Target directory /content/drive/MyDrive/Colab Notebooks/my-modules/packaging-21.3.dist-info already exists. Specify --upgrade to force replacement.\u001b[0m\n",
            "\u001b[33mWARNING: Target directory /content/drive/MyDrive/Colab Notebooks/my-modules/pyparsing-3.0.9.dist-info already exists. Specify --upgrade to force replacement.\u001b[0m\n",
            "\u001b[33mWARNING: Target directory /content/drive/MyDrive/Colab Notebooks/my-modules/numpy already exists. Specify --upgrade to force replacement.\u001b[0m\n",
            "\u001b[33mWARNING: Target directory /content/drive/MyDrive/Colab Notebooks/my-modules/numpy.libs already exists. Specify --upgrade to force replacement.\u001b[0m\n",
            "\u001b[33mWARNING: Target directory /content/drive/MyDrive/Colab Notebooks/my-modules/Pillow-9.1.1.dist-info already exists. Specify --upgrade to force replacement.\u001b[0m\n",
            "\u001b[33mWARNING: Target directory /content/drive/MyDrive/Colab Notebooks/my-modules/numpy-1.21.6.dist-info already exists. Specify --upgrade to force replacement.\u001b[0m\n",
            "\u001b[33mWARNING: Target directory /content/drive/MyDrive/Colab Notebooks/my-modules/bin already exists. Specify --upgrade to force replacement.\u001b[0m\n"
          ]
        },
        {
          "output_type": "display_data",
          "data": {
            "application/vnd.colab-display-data+json": {
              "pip_warning": {
                "packages": [
                  "numpy"
                ]
              }
            }
          },
          "metadata": {}
        }
      ]
    },
    {
      "cell_type": "code",
      "source": [
        "\n",
        "# detectron2\n",
        "!pip install --target /content/drive/MyDrive/Colab\\ Notebooks/my-modules \n",
        "!pip install --target /content/drive/MyDrive/Colab\\ Notebooks/my-modules \n",
        "!pip install --target /content/drive/MyDrive/Colab\\ Notebooks/my-modules "
      ],
      "metadata": {
        "id": "VD8FwUXGKDxF"
      },
      "execution_count": null,
      "outputs": []
    },
    {
      "cell_type": "markdown",
      "source": [
        "# 3. PythonにGoogle Driveのパスを指定する。（毎回する必要あり）\n"
      ],
      "metadata": {
        "id": "BMxMB9fPAXAu"
      }
    },
    {
      "cell_type": "code",
      "source": [
        "import sys\n",
        "sys.path.append('/content/drive/MyDrive/Colab Notebooks/my-modules')"
      ],
      "metadata": {
        "id": "-vbvQGt4JfNm"
      },
      "execution_count": 2,
      "outputs": []
    },
    {
      "cell_type": "markdown",
      "source": [
        "# 4. importしてみて、インストールできているかを確認\n",
        "実行してエラーが出なければ成功\n",
        "\n",
        "No CUDA runtime is found, using CUDA_HOME='/usr/local/cuda'\n",
        "というエラーが出る場合は、Colabの画面上側にある\n",
        "\n",
        "ランタイム->ランタイムのタイプを変更->ハードウェアのアクセラレータ\n",
        "\n",
        "をNoneからGPUに変更する。\n"
      ],
      "metadata": {
        "id": "zsq4uKpcJvgK"
      }
    },
    {
      "cell_type": "code",
      "source": [
        "import mmdet"
      ],
      "metadata": {
        "id": "YHqkhnyAJpof"
      },
      "execution_count": 4,
      "outputs": []
    },
    {
      "cell_type": "code",
      "source": [
        ""
      ],
      "metadata": {
        "id": "23MRV_NkQqbG"
      },
      "execution_count": 4,
      "outputs": []
    }
  ]
}