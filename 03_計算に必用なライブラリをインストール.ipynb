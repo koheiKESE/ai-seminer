{
  "nbformat": 4,
  "nbformat_minor": 0,
  "metadata": {
    "colab": {
      "provenance": [],
      "mount_file_id": "1cXCdor80HgqN8t6HVG9OQFEIASdjv67N",
      "authorship_tag": "ABX9TyNAfkWip7s6oy89ggH+WG7V",
      "include_colab_link": true
    },
    "kernelspec": {
      "name": "python3",
      "display_name": "Python 3"
    },
    "language_info": {
      "name": "python"
    },
    "accelerator": "GPU",
    "gpuClass": "standard"
  },
  "cells": [
    {
      "cell_type": "markdown",
      "metadata": {
        "id": "view-in-github",
        "colab_type": "text"
      },
      "source": [
        "<a href=\"https://colab.research.google.com/github/koheiKESE/ai-seminer/blob/main/03_%E8%A8%88%E7%AE%97%E3%81%AB%E5%BF%85%E7%94%A8%E3%81%AA%E3%83%A9%E3%82%A4%E3%83%96%E3%83%A9%E3%83%AA%E3%82%92%E3%82%A4%E3%83%B3%E3%82%B9%E3%83%88%E3%83%BC%E3%83%AB.ipynb\" target=\"_parent\"><img src=\"https://colab.research.google.com/assets/colab-badge.svg\" alt=\"Open In Colab\"/></a>"
      ]
    },
    {
      "cell_type": "markdown",
      "source": [
        "# 0. はじめに\n",
        "- 今回の演習で使用するAIライブラリはColabにインストールされていないので、自分でする必要があります。\n",
        "- ここで、Colabは、接続が切れると、手動でインストールしたライブラリも初期化されてしまいます。\n",
        "- そこで、Google Driveにインストールしたライブラリを保存しておくことで、初期化されるのを回避する。\n",
        "\n"
      ],
      "metadata": {
        "id": "yTUt_del-x2h"
      }
    },
    {
      "cell_type": "markdown",
      "source": [
        "# 1. Google Driveをマウント\n",
        " Google Driveをマウントする方法は2つある。\n",
        " - 下記コードセルを実行する。\n",
        " - 左ペインのフォルダマークをクリック -> Googole Driveのロゴが書いてあるフォルダマークをクリック"
      ],
      "metadata": {
        "id": "rEL4F8Kt_yJg"
      }
    },
    {
      "cell_type": "code",
      "source": [
        "# Google Driveを /content/drive以下にマウント\n",
        "from google.colab import drive\n",
        "drive.mount('/content/drive', force_remount=True)"
      ],
      "metadata": {
        "id": "LL1JcCjI_1FX"
      },
      "execution_count": null,
      "outputs": []
    },
    {
      "cell_type": "markdown",
      "source": [
        "# 2. Google Driveにインストールしたいライブラリをインストール\n",
        "\n",
        "- ①ではなく、②のコマンドを使用する。\n",
        "\n",
        "  ①　!pip install {イントールしたいライブラリ名}\n",
        "\n",
        "  ②　!pip install --target {保存先のパス} {イントールしたいライブラリ名}\n",
        "\n",
        "- 今回は、保存先のパスとして、{/content/drive/MyDrive/Colab\\ Notebooks/my-modules}を指定する。(Googleドライブ直下から、Colab Notebooksフォルダ/my-modulesフォルダの中)"
      ],
      "metadata": {
        "id": "zgWkgzmAD97E"
      }
    },
    {
      "cell_type": "code",
      "source": [
        "# detectron2\n",
        "# 所要時間 30秒程度\n",
        "!pip install --target /content/drive/MyDrive/Colab\\ Notebooks/my-modules pyyaml==5.1\n",
        "!pip install --target /content/drive/MyDrive/Colab\\ Notebooks/my-modules 'git+https://github.com/facebookresearch/detectron2.git'"
      ],
      "metadata": {
        "id": "GyEa9y0h_xWZ"
      },
      "execution_count": null,
      "outputs": []
    },
    {
      "cell_type": "code",
      "source": [
        "# labelme2cocoのインストール\n",
        "# labelme形式で保存されたjsonファイルをcoco形式に変換する\n",
        "!pip install --target /content/drive/MyDrive/Colab\\ Notebooks/my-modules labelme2coco"
      ],
      "metadata": {
        "id": "2rU3SNTnXB0o"
      },
      "execution_count": null,
      "outputs": []
    },
    {
      "cell_type": "code",
      "source": [
        "# MMdetection (今回このライブラリは不使用)\n",
        "# 所要時間 30分程度\n",
        "## !pip install --target /content/drive/MyDrive/Colab\\ Notebooks/my-modules mmdet\n",
        "## !pip install --target /content/drive/MyDrive/Colab\\ Notebooks/my-modules mmcv-full\n",
        "## !pip install --target /content/drive/MyDrive/Colab\\ Notebooks/my-modules sahi"
      ],
      "metadata": {
        "id": "dgVh_1CTDcyF"
      },
      "execution_count": null,
      "outputs": []
    },
    {
      "cell_type": "markdown",
      "source": [
        "# 3. Pythonにmy-modulesフォルダのパスを指定する。（毎回する必要あり）\n",
        "- pip installで指定した保存先 ('/content/drive/MyDrive/Colab Notebooks/my-modules')のパスを通す"
      ],
      "metadata": {
        "id": "BMxMB9fPAXAu"
      }
    },
    {
      "cell_type": "code",
      "source": [
        "import sys\n",
        "sys.path.append('/content/drive/MyDrive/Colab Notebooks/my-modules')"
      ],
      "metadata": {
        "id": "-vbvQGt4JfNm"
      },
      "execution_count": null,
      "outputs": []
    },
    {
      "cell_type": "markdown",
      "source": [
        "# 4. importしてみて、インストールできているかを確認\n",
        "実行してエラーが出なければ成功\n",
        "\n",
        "No CUDA runtime is found, using CUDA_HOME='/usr/local/cuda'\n",
        "というエラーが出る場合は、Colabの画面上側にある\n",
        "\n",
        "ランタイム->ランタイムのタイプを変更->ハードウェアのアクセラレータ\n",
        "\n",
        "をNoneからGPUに変更する。\n"
      ],
      "metadata": {
        "id": "zsq4uKpcJvgK"
      }
    },
    {
      "cell_type": "code",
      "source": [
        "import detectron2"
      ],
      "metadata": {
        "id": "YHqkhnyAJpof"
      },
      "execution_count": null,
      "outputs": []
    },
    {
      "cell_type": "code",
      "source": [
        "import labelme2coco"
      ],
      "metadata": {
        "id": "23MRV_NkQqbG"
      },
      "execution_count": null,
      "outputs": []
    }
  ]
}