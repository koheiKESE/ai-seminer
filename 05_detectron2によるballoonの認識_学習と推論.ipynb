{
  "nbformat": 4,
  "nbformat_minor": 0,
  "metadata": {
    "colab": {
      "provenance": [],
      "mount_file_id": "1j7QcQxaEK7hFVaonjHQYmzkSSDfuUH01",
      "authorship_tag": "ABX9TyO+JyLHZLI6flHL4nkUYTVB",
      "include_colab_link": true
    },
    "kernelspec": {
      "name": "python3",
      "display_name": "Python 3"
    },
    "language_info": {
      "name": "python"
    },
    "accelerator": "GPU",
    "gpuClass": "standard"
  },
  "cells": [
    {
      "cell_type": "markdown",
      "metadata": {
        "id": "view-in-github",
        "colab_type": "text"
      },
      "source": [
        "<a href=\"https://colab.research.google.com/github/koheiKESE/ai-seminer/blob/main/05_detectron2%E3%81%AB%E3%82%88%E3%82%8Bballoon%E3%81%AE%E8%AA%8D%E8%AD%98_%E5%AD%A6%E7%BF%92%E3%81%A8%E6%8E%A8%E8%AB%96.ipynb\" target=\"_parent\"><img src=\"https://colab.research.google.com/assets/colab-badge.svg\" alt=\"Open In Colab\"/></a>"
      ]
    },
    {
      "cell_type": "markdown",
      "source": [
        "# 0. このノートブックを実行する前すること\n",
        "\n",
        "1. ランタイムをハードウェアアクセラレータをGPUに指定\n",
        "  - ランタイム -> ランタイムのタイプを変更 -> ハードウェアアクセラレータをGPUに設定\n",
        "\n",
        "\n",
        "2. balloonデータセットをGoogle Drive直下にコピー\n",
        "\n",
        "3. このノートブックをGoogle Driveに保存 ( +コード＋テキストの右隣に表示されている「ドライブにコピー」ボタンをクリック"
      ],
      "metadata": {
        "id": "KCu2T67oZeEY"
      }
    },
    {
      "cell_type": "markdown",
      "source": [
        "# 1. 初期設定\n",
        "\n",
        "  1. Google Driveをマウント\n",
        "    - pip installで指定した保存先 ('/content/drive/MyDrive/Colab Notebooks/my-.modules')のパスを通す\n",
        "\n",
        "  2. detectron2とlabelme2cocoをインストール (**注意** : 90分/12時間ルールによりインストールしたものはリセットされます)\n",
        "\n",
        "  3. colabの環境とdetectron2の環境間のバージョンのコンフリクトを解消するため、ランタイムを再起動 "
      ],
      "metadata": {
        "id": "xwzeCaBe0Vlm"
      }
    },
    {
      "cell_type": "code",
      "source": [
        "# Google Driveを /content/drive以下にマウント\n",
        "from google.colab import drive\n",
        "drive.mount('/content/drive', force_remount=True)"
      ],
      "metadata": {
        "id": "7YcJbvn2jK1e",
        "colab": {
          "base_uri": "https://localhost:8080/"
        },
        "outputId": "8794abbf-aee1-4d47-e106-a0f70ef4c5fd"
      },
      "execution_count": null,
      "outputs": [
        {
          "output_type": "stream",
          "name": "stdout",
          "text": [
            "Drive already mounted at /content/drive; to attempt to forcibly remount, call drive.mount(\"/content/drive\", force_remount=True).\n"
          ]
        }
      ]
    },
    {
      "cell_type": "code",
      "execution_count": null,
      "metadata": {
        "id": "txFy5E2Orv_q"
      },
      "outputs": [],
      "source": [
        "# Pythonにmy-modulesフォルダのパスを登録\n",
        "#import sys\n",
        "#sys.path.append('/content/drive/MyDrive/Colab Notebooks/my-modules/')"
      ]
    },
    {
      "cell_type": "code",
      "source": [
        "# detectron2\n",
        "# 所要時間 30秒程度\n",
        "!pip install pyyaml==5.1\n",
        "!pip install 'git+https://github.com/facebookresearch/detectron2.git' --upgrade"
      ],
      "metadata": {
        "id": "nMTXb-D0RQ2o"
      },
      "execution_count": null,
      "outputs": []
    },
    {
      "cell_type": "code",
      "source": [
        "# labelme2cocoのインストール\n",
        "# labelme形式で保存されたjsonファイルをcoco形式に変換する\n",
        "!pip install labelme2coco --upgrade"
      ],
      "metadata": {
        "id": "J9pnPYNLRUTm"
      },
      "execution_count": null,
      "outputs": []
    },
    {
      "cell_type": "markdown",
      "source": [
        "# インストール完了後、ランタイムを再起動\n",
        "\n",
        "## 表示内容\n",
        "WARNING: The following packages were previously imported in this runtime:\n",
        "  [certifi]\n",
        "You must restart the runtime in order to use newly installed versions.\n",
        "\n",
        "\n",
        "## 解決方法 (どれかでＯＫ)\n",
        "1. セルに表示される「RESTART RUNTIME」ボタンをクリック\n",
        "2. メニューバーのランタイム -> ランタイムを再起動をクリック"
      ],
      "metadata": {
        "id": "tMkA5Fr9Ro8w"
      }
    },
    {
      "cell_type": "markdown",
      "source": [
        "# 正しくインストールできているか、モジュールをインポートして確認 (エラーが表示されなければOK)"
      ],
      "metadata": {
        "id": "V8V3quJNS_sK"
      }
    },
    {
      "cell_type": "code",
      "source": [
        "# detectron2のインポートとバージョン確認\n",
        "import torch, detectron2\n",
        "!nvcc --version\n",
        "TORCH_VERSION = \".\".join(torch.__version__.split(\".\")[:2])\n",
        "CUDA_VERSION = torch.__version__.split(\"+\")[-1]\n",
        "print(\"torch: \", TORCH_VERSION, \"; cuda: \", CUDA_VERSION)\n",
        "print(\"detectron2:\", detectron2.__version__)"
      ],
      "metadata": {
        "id": "VOqOFaCEO5Tj",
        "colab": {
          "base_uri": "https://localhost:8080/"
        },
        "outputId": "31d58c5f-191d-4787-cbed-cac8b2f3d443"
      },
      "execution_count": null,
      "outputs": [
        {
          "output_type": "stream",
          "name": "stdout",
          "text": [
            "nvcc: NVIDIA (R) Cuda compiler driver\n",
            "Copyright (c) 2005-2021 NVIDIA Corporation\n",
            "Built on Sun_Feb_14_21:12:58_PST_2021\n",
            "Cuda compilation tools, release 11.2, V11.2.152\n",
            "Build cuda_11.2.r11.2/compiler.29618528_0\n",
            "torch:  1.12 ; cuda:  cu113\n",
            "detectron2: 0.6\n"
          ]
        }
      ]
    },
    {
      "cell_type": "code",
      "source": [
        "# labelme2cocoのインポート\n",
        "import labelme2coco"
      ],
      "metadata": {
        "id": "J5vDtM4XZlpK"
      },
      "execution_count": null,
      "outputs": []
    },
    {
      "cell_type": "code",
      "source": [
        "# 本プログラムで使用するライブラリのインポート\n",
        "# Some basic setup:\n",
        "# Setup detectron2 logger\n",
        "import detectron2\n",
        "from detectron2.utils.logger import setup_logger\n",
        "setup_logger()\n",
        "\n",
        "# import some common libraries\n",
        "import numpy as np\n",
        "import os, json, cv2, random\n",
        "from google.colab.patches import cv2_imshow\n",
        "\n",
        "# import some common detectron2 utilities\n",
        "from detectron2 import model_zoo\n",
        "from detectron2.engine import DefaultPredictor\n",
        "from detectron2.config import get_cfg\n",
        "from detectron2.utils.visualizer import Visualizer\n",
        "from detectron2.data import MetadataCatalog, DatasetCatalog\n",
        "from detectron2.engine import DefaultTrainer\n",
        "\n",
        "from detectron2.data.datasets import register_coco_instances\n",
        "\n",
        "from detectron2.engine import DefaultTrainer\n",
        "from detectron2.config import get_cfg\n",
        "from detectron2.utils.visualizer import ColorMode\n",
        "import os\n",
        "import glob"
      ],
      "metadata": {
        "id": "Kkv6-pZUTGHT"
      },
      "execution_count": null,
      "outputs": []
    },
    {
      "cell_type": "markdown",
      "source": [
        "# バルーンデータセットが、本ノートブックから読み込めるかを確認"
      ],
      "metadata": {
        "id": "jd9DUN_VTRIv"
      }
    },
    {
      "cell_type": "code",
      "source": [
        "# 画像が読み込めるかを確認\n",
        "import cv2\n",
        "import matplotlib.pyplot as plt\n",
        "img = cv2.imread('/content/drive/MyDrive/balloon_labelme既アノテーション/train/10464445726_6f1e3bbe6a_k.jpg')\n",
        "plt.imshow(img)\n",
        "plt.show()"
      ],
      "metadata": {
        "id": "PL5gED_AXFBk"
      },
      "execution_count": null,
      "outputs": []
    },
    {
      "cell_type": "code",
      "source": [
        "!ls '/content/drive/MyDrive/balloon_labelme既アノテーション/train' "
      ],
      "metadata": {
        "id": "DrMN9k49WuzM"
      },
      "execution_count": null,
      "outputs": []
    },
    {
      "cell_type": "code",
      "source": [
        "# 入力フォルダを指定\n",
        "import_dir = '/content/drive/MyDrive/balloon_labelme既アノテーション/train'\n",
        "# 出力フォルダを指定\n",
        "export_dir = '/content/drive/MyDrive/balloon_labelme既アノテーション/train_labelme2coco_ano'\n",
        "\n",
        "# set train split rate\n",
        "# train_split_rate = 0.75\n",
        "\n",
        "# convert labelme annotations to coco\n",
        "labelme2coco.convert(import_dir, export_dir)"
      ],
      "metadata": {
        "id": "ZCzIr5BNWcke"
      },
      "execution_count": null,
      "outputs": []
    },
    {
      "cell_type": "markdown",
      "source": [
        "# 1. アノテーション結果の可視化"
      ],
      "metadata": {
        "id": "H8pE3i1ybgZd"
      }
    },
    {
      "cell_type": "code",
      "source": [
        "# データセット名の指定 (識別用なので、名前はなんでもOK)\n",
        "train_dataset_name = \"balloon_train2\"\n",
        "\n",
        "# アノテーションデータの保存先\n",
        "## balloon_labelme既アノテーション以下は、自分のフォルダ名に適宜書き換える\n",
        "train_json_path = \"/content/drive/MyDrive/balloon_labelme既アノテーション/train_labelme2coco_ano/dataset.json\"\n",
        "\n",
        "# 学習データのフォルダのパス\n",
        "## balloon_labelme既アノテーション以下は、自分のフォルダ名に適宜書き換える\n",
        "train_path = \"/content/drive/MyDrive/balloon_labelme既アノテーション/train\"\n",
        "\n",
        "# 推論データのフォルダのパス\n",
        "## balloon_labelme既アノテーション以下は、自分のフォルダ名に適宜書き換える\n",
        "test_path = \"/content/drive/MyDrive/balloon_labelme既アノテーション/val\""
      ],
      "metadata": {
        "id": "pXAKOpy-ctCv"
      },
      "execution_count": null,
      "outputs": []
    },
    {
      "cell_type": "code",
      "source": [
        "# 訓練データセットをdetectron2に登録\n",
        "# 引数1:データセットの名前(なんでもOK)、引数2:jsonファイル、引数3:画像が入っているフォルダ\n",
        "register_coco_instances(train_dataset_name, {}, train_json_path, train_path)"
      ],
      "metadata": {
        "id": "ZMzIPUV9ckjB"
      },
      "execution_count": null,
      "outputs": []
    },
    {
      "cell_type": "code",
      "source": [
        "train_metadata = MetadataCatalog.get(train_dataset_name)\n",
        "train_dicts = DatasetCatalog.get(train_dataset_name)"
      ],
      "metadata": {
        "id": "q7ic034cfg_N"
      },
      "execution_count": null,
      "outputs": []
    },
    {
      "cell_type": "code",
      "source": [
        "# trainデータ数を表示\n",
        "print(f\"num_train_images : {len(train_dicts)}\")"
      ],
      "metadata": {
        "id": "gICXXR_Efnb4"
      },
      "execution_count": null,
      "outputs": []
    },
    {
      "cell_type": "code",
      "source": [
        "# train_metadataを表示 (訓練データセットをdetectron2に登録した結果)\n",
        "print(train_metadata)"
      ],
      "metadata": {
        "id": "tbd9OR4FbXM3"
      },
      "execution_count": null,
      "outputs": []
    },
    {
      "cell_type": "code",
      "source": [
        "# train_dictsデータを表示 (アノテーション結果の座標等を表示)\n",
        "print(train_dicts)"
      ],
      "metadata": {
        "id": "3KwRstL-bXWB"
      },
      "execution_count": null,
      "outputs": []
    },
    {
      "cell_type": "code",
      "source": [
        "# ランダムに画像+アノテーションを表示\n",
        "import random\n",
        "\n",
        "def plot_teacher_data(train_dicts, train_metadata, num=3):\n",
        "    for d in random.sample(train_dicts, num):\n",
        "        print(d[\"file_name\"])\n",
        "        img = cv2.imread(d[\"file_name\"])\n",
        "        visualizer = Visualizer(img[:, :, ::-1], metadata=train_metadata, scale=0.5)\n",
        "        vis = visualizer.draw_dataset_dict(d)\n",
        "        cv2_imshow(vis.get_image()[:, :, ::-1])\n",
        "\n",
        "  \n",
        "plot_teacher_data(train_dicts, train_metadata, num=3)"
      ],
      "metadata": {
        "id": "MrjURWsXhuEq"
      },
      "execution_count": null,
      "outputs": []
    },
    {
      "cell_type": "markdown",
      "source": [
        "# 2. detectron2で学習を実行\n",
        "- 学習時間は、62枚で2分ぐらい\n",
        "- 学習済みモデルはmodel_zooから任意のものを使用可能\n",
        "- 主な変更は、NUM_CLASSES = 1 とすること。\n",
        "- 学習が完了すると、学習済みモデルとしてmodel_final.pthが出力\n"
      ],
      "metadata": {
        "id": "T_4sqWOup9vx"
      }
    },
    {
      "cell_type": "code",
      "source": [
        "# 学習時のコンフィグ(設定)を記述\n",
        "\n",
        "## コンフィグを初期化\n",
        "cfg = get_cfg()\n",
        "\n",
        "# モデルのロード (今回はResNet50+FPN_3x)\n",
        "cfg.merge_from_file(model_zoo.get_config_file(\"COCO-InstanceSegmentation/mask_rcnn_R_50_FPN_3x.yaml\"))\n",
        "\n",
        "# 訓練データセットの登録\n",
        "cfg.DATASETS.TRAIN = (train_dataset_name)\n",
        "\n",
        "# テストデータセットの登録 (今回は空欄)\n",
        "cfg.DATASETS.TEST = ()  # no metrics implemented for this dataset\n",
        "\n",
        "# 計算に使用するスレッド数の設定 (今回は2(=デフォルト値)を設定)\n",
        "cfg.DATALOADER.NUM_WORKERS = 2\n",
        "\n",
        "# ロードした学習済みモデルをモデルの重みの初期値に設定\n",
        "cfg.MODEL.WEIGHTS = model_zoo.get_checkpoint_url(\"COCO-InstanceSegmentation/mask_rcnn_R_50_FPN_3x.yaml\")\n",
        "\n",
        "# バッチサイズ (今回は2を設定)\n",
        "cfg.SOLVER.IMS_PER_BATCH = 2\n",
        "\n",
        "# 学習率 (default値)\n",
        "cfg.SOLVER.BASE_LR = 0.02\n",
        "\n",
        "# MAXエポック数 (default値)\n",
        "cfg.SOLVER.MAX_ITER = (\n",
        "    300\n",
        ")  # 300 iterations seems good enough, but you can certainly train longer\n",
        "\n",
        "# ROIのバッチサイズ (default値)\n",
        "cfg.MODEL.ROI_HEADS.BATCH_SIZE_PER_IMAGE = (\n",
        "    128\n",
        ")  # faster, and good enough for this toy dataset\n",
        "\n",
        "# クラス数の登録 (今回は、balloonのみの検出なので1を設定)\n",
        "cfg.MODEL.ROI_HEADS.NUM_CLASSES = 1 \n",
        "\n",
        "cfg.OUTPUT_DIR = \"/content/drive/MyDrive/output\""
      ],
      "metadata": {
        "id": "vCP70FZFhmBL"
      },
      "execution_count": null,
      "outputs": []
    },
    {
      "cell_type": "code",
      "source": [
        "# 学習実行\n",
        "\n",
        "## outputフォルダを作成し、そこに学習結果を保存する。\n",
        "os.makedirs(cfg.OUTPUT_DIR, exist_ok=True)\n",
        "## 上で設定した初期設定をtrainerにロード\n",
        "trainer = DefaultTrainer(cfg)\n",
        "##  最終チェックポイントかMODEL.WEIGHTSを読み込む (今回は、最終チェックポイントは無視(False))\n",
        "trainer.resume_or_load(resume=False)\n",
        "## 訓練実行\n",
        "trainer.train()"
      ],
      "metadata": {
        "id": "aZodY_rOuqLi"
      },
      "execution_count": null,
      "outputs": []
    },
    {
      "cell_type": "code",
      "source": [
        "# tensorboardを使用して、学習曲線等を可視化\n",
        "# Look at training curves in tensorboard:\n",
        "%load_ext tensorboard\n",
        "%tensorboard --logdir /content/drive/MyDrive/output"
      ],
      "metadata": {
        "id": "-Ui6k3mvsWkG"
      },
      "execution_count": null,
      "outputs": []
    },
    {
      "cell_type": "code",
      "source": [],
      "metadata": {
        "id": "WAcZHMpWDL3Q"
      },
      "execution_count": null,
      "outputs": []
    },
    {
      "cell_type": "markdown",
      "source": [
        "# 3. 学習済みモデルを用いて推論\n",
        "- 学習済みモデルとして、上記学習で作成したmodel_final.pthをロード\n",
        "- 推論なので、アノテーションデータは不要 (ロードしない)\n"
      ],
      "metadata": {
        "id": "mpYQNszDsW5q"
      }
    },
    {
      "cell_type": "code",
      "source": [
        "# コンフィグ (設定)を記述\n",
        "## コンフィグを初期化\n",
        "cfg = get_cfg()\n",
        "\n",
        "# モデルをロード\n",
        "cfg.merge_from_file(model_zoo.get_config_file(\"COCO-InstanceSegmentation/mask_rcnn_R_50_FPN_3x.yaml\"))\n",
        "# クラス数を指定 (今回は1クラス)\n",
        "cfg.MODEL.ROI_HEADS.NUM_CLASSES = 1  # 1クラスのみ\n",
        "# 重みの保存先を指定\n",
        "cfg.OUTPUT_DIR = \"/content/drive/MyDrive/output\"\n",
        "# 重みをロード\n",
        "cfg.MODEL.WEIGHTS = os.path.join(cfg.OUTPUT_DIR, \"model_final.pth\")\n",
        "# 閾値を設定 (ここを調整(大きい値を設定)すると、予測確率の低い怪しいオブジェクトは削除される)\n",
        "cfg.MODEL.ROI_HEADS.SCORE_THRESH_TEST = 0.6\n",
        "# デバイスモードを設定\n",
        "cfg.MODEL.DEVICE = \"cpu\"\n",
        "\n",
        "# コンフィグを反映した予測器を作成\n",
        "predictor = DefaultPredictor(cfg)"
      ],
      "metadata": {
        "id": "xxH272aysVBO"
      },
      "execution_count": null,
      "outputs": []
    },
    {
      "cell_type": "code",
      "source": [
        "# 推論実行\n",
        "## testフォルダ内のデータを全て読み込み\n",
        "image_path_list = glob.glob(f\"{test_path}/*\")\n",
        "\n",
        "## forループで繰り返し実行\n",
        "## valフォルダからランダムで3サンプルを抽出\n",
        "for imagePath in random.sample(image_path_list, 3):\n",
        "    print(\"ファイル名 :\", imagePath)\n",
        "    ## 画像の読み込み\n",
        "    im = cv2.imread(imagePath)\n",
        "    \n",
        "    ## 読み込んだ画像をpredictorに入力して推論を実行 (出力 : outputs)\n",
        "    outputs = predictor(im)\n",
        "\n",
        "    ## Visualizer(detectron2の画像表示関数)を使用して、推論結果を表示\n",
        "    v = Visualizer(im[:, :, ::-1],\n",
        "                   metadata=None, \n",
        "                   scale=1.0,\n",
        "                   instance_mode=ColorMode.IMAGE_BW   # remove the colors of unsegmented pixels 元画像をグレースケールに変換するオプション\n",
        "    )\n",
        "    v = v.draw_instance_predictions(outputs[\"instances\"].to(\"cpu\"))\n",
        "    cv2_imshow(v.get_image()[:, :, ::-1])"
      ],
      "metadata": {
        "id": "0UoTvZvIvyNN"
      },
      "execution_count": null,
      "outputs": []
    },
    {
      "cell_type": "code",
      "source": [],
      "metadata": {
        "id": "bfKsKEJ-ARtr"
      },
      "execution_count": null,
      "outputs": []
    },
    {
      "cell_type": "markdown",
      "source": [
        "# Q. 予測精度が悪いんじゃないのか？\n",
        "\n",
        "# A. その通りです。\n",
        "\n",
        "**原因**\n",
        "- 学習データが少ない\n",
        "- 画像のバリエーションが豊富 (背景が画像によってバラバラ)\n",
        "- アノテーションが雑\n",
        "- 学習パラメータが未調整\n",
        "\n",
        "**解決策**\n",
        "- 学習データ数を増やす\n",
        "- 背景の変化が少ないデータを使用する\n",
        "- 正確にアノテーションする\n",
        "- 学習パラメータを調整する\n",
        "\n",
        "**すぐにできる解決策**\n",
        "- 閾値の値を増やすして、誤検出を減らす (<-これはすぐに対応可能)"
      ],
      "metadata": {
        "id": "2x7g1hXeASPc"
      }
    },
    {
      "cell_type": "code",
      "source": [],
      "metadata": {
        "id": "YtUuv3z1j3Zk"
      },
      "execution_count": null,
      "outputs": []
    }
  ]
}