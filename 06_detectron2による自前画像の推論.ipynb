{
  "cells": [
    {
      "cell_type": "markdown",
      "metadata": {
        "id": "view-in-github",
        "colab_type": "text"
      },
      "source": [
        "<a href=\"https://colab.research.google.com/github/koheiKESE/ai-seminer/blob/main/06_detectron2%E3%81%AB%E3%82%88%E3%82%8B%E8%87%AA%E5%89%8D%E7%94%BB%E5%83%8F%E3%81%AE%E6%8E%A8%E8%AB%96.ipynb\" target=\"_parent\"><img src=\"https://colab.research.google.com/assets/colab-badge.svg\" alt=\"Open In Colab\"/></a>"
      ]
    },
    {
      "cell_type": "markdown",
      "source": [
        "# 0. このノートブックを実行する前すること\n",
        "\n",
        "1. ランタイムをハードウェアアクセラレータをGPUに指定\n",
        "  - ランタイム -> ランタイムのタイプを変更 -> ハードウェアアクセラレータをGPUに設定\n",
        "\n",
        "\n",
        "2. 推論させたい画像をGoogle Drive直下にコピー\n",
        "\n",
        "3. このノートブックをGoogle Driveに保存 ( +コード＋テキストの右隣に表示されている「ドライブにコピー」ボタンをクリック"
      ],
      "metadata": {
        "id": "t31eZ7ohzlSy"
      }
    },
    {
      "cell_type": "markdown",
      "source": [
        "# 1. 初期設定\n",
        "\n",
        "  1. Google Driveをマウント\n",
        "\n",
        "  2. detectron2をインストール (**注意** : 90分/12時間ルールによりインストールしたものはリセットされます)\n",
        "\n",
        "  3. (インストール完了後)colabの環境とdetectron2の環境間のバージョンのコンフリクトを解消するため、ランタイムを再起動 "
      ],
      "metadata": {
        "id": "NLnPS2dVzvXU"
      }
    },
    {
      "cell_type": "code",
      "execution_count": null,
      "metadata": {
        "id": "9u3O0CRzwP5_"
      },
      "outputs": [],
      "source": [
        "# Google Driveを /content/drive以下にマウント\n",
        "from google.colab import drive\n",
        "drive.mount('/content/drive', force_remount=True)"
      ]
    },
    {
      "cell_type": "code",
      "execution_count": null,
      "metadata": {
        "id": "XwYKBd8Yw-lz"
      },
      "outputs": [],
      "source": [
        "# detectron2\n",
        "# 所要時間 30秒程度\n",
        "!pip install pyyaml==5.1\n",
        "!pip install 'git+https://github.com/facebookresearch/detectron2.git' --upgrade"
      ]
    },
    {
      "cell_type": "markdown",
      "source": [
        "# インストール完了後、ランタイムを再起動\n",
        "\n",
        "## 表示内容\n",
        "WARNING: The following packages were previously imported in this runtime:\n",
        "  [certifi]\n",
        "You must restart the runtime in order to use newly installed versions.\n",
        "\n",
        "\n",
        "## 解決方法 (どれかでＯＫ)\n",
        "1. セルに表示される「RESTART RUNTIME」ボタンをクリック\n",
        "2. メニューバーのランタイム -> ランタイムを再起動をクリック"
      ],
      "metadata": {
        "id": "ShlGXosCz-Fw"
      }
    },
    {
      "cell_type": "markdown",
      "source": [
        "# 正しくインストールできているか、モジュールをインポートして確認 (エラーが表示されなければOK)"
      ],
      "metadata": {
        "id": "XWgM2BP_0B1I"
      }
    },
    {
      "cell_type": "code",
      "execution_count": null,
      "metadata": {
        "id": "Z3FNvkBjxCIk"
      },
      "outputs": [],
      "source": [
        "# detectron2のインポートとバージョン確認\n",
        "import torch, detectron2\n",
        "!nvcc --version\n",
        "TORCH_VERSION = \".\".join(torch.__version__.split(\".\")[:2])\n",
        "CUDA_VERSION = torch.__version__.split(\"+\")[-1]\n",
        "print(\"torch: \", TORCH_VERSION, \"; cuda: \", CUDA_VERSION)\n",
        "print(\"detectron2:\", detectron2.__version__)"
      ]
    },
    {
      "cell_type": "code",
      "execution_count": null,
      "metadata": {
        "id": "0qrsMvPlxFXz"
      },
      "outputs": [],
      "source": [
        "# 本プログラムで使用するライブラリのインポート\n",
        "# Some basic setup:\n",
        "# Setup detectron2 logger\n",
        "import detectron2\n",
        "from detectron2.utils.logger import setup_logger\n",
        "setup_logger()\n",
        "\n",
        "# import some common libraries\n",
        "import numpy as np\n",
        "import os, json, cv2, random\n",
        "from google.colab.patches import cv2_imshow\n",
        "\n",
        "# import some common detectron2 utilities\n",
        "from detectron2 import model_zoo\n",
        "from detectron2.engine import DefaultPredictor\n",
        "from detectron2.config import get_cfg\n",
        "from detectron2.utils.visualizer import Visualizer\n",
        "from detectron2.data import MetadataCatalog, DatasetCatalog\n",
        "from detectron2.engine import DefaultTrainer\n",
        "\n",
        "from detectron2.data.datasets import register_coco_instances\n",
        "\n",
        "from detectron2.engine import DefaultTrainer\n",
        "from detectron2.config import get_cfg\n",
        "from detectron2.utils.visualizer import ColorMode\n",
        "import os\n",
        "import glob"
      ]
    },
    {
      "cell_type": "code",
      "source": [],
      "metadata": {
        "id": "5LtanO-r0P4T"
      },
      "execution_count": null,
      "outputs": []
    },
    {
      "cell_type": "markdown",
      "source": [
        "# 骨格検知の推論を実行"
      ],
      "metadata": {
        "id": "ZAC5halQ0QNj"
      }
    },
    {
      "cell_type": "code",
      "execution_count": null,
      "metadata": {
        "id": "loyTyAghxGux"
      },
      "outputs": [],
      "source": [
        "# 画像が読み込めるかを確認\n",
        "import cv2\n",
        "import matplotlib.pyplot as plt\n",
        "img = cv2.imread('/content/drive/MyDrive/test_image1.jpg') #imgという変数に、画像データを格納\n",
        "plt.figure(figsize=(20,24))\n",
        "plt.imshow(img)\n",
        "plt.show()"
      ]
    },
    {
      "cell_type": "code",
      "execution_count": null,
      "metadata": {
        "colab": {
          "background_save": true
        },
        "id": "0GYsgR5UyOEt"
      },
      "outputs": [],
      "source": [
        "# コンフィグ(初期設定)\n",
        "cfg = get_cfg()   # get a fresh new config\n",
        "cfg.merge_from_file(model_zoo.get_config_file(\"COCO-Keypoints/keypoint_rcnn_R_50_FPN_3x.yaml\"))\n",
        "cfg.MODEL.ROI_HEADS.SCORE_THRESH_TEST = 0.7  # set threshold for this model\n",
        "cfg.MODEL.WEIGHTS = model_zoo.get_checkpoint_url(\"COCO-Keypoints/keypoint_rcnn_R_50_FPN_3x.yaml\")\n",
        "\n",
        "predictor = DefaultPredictor(cfg) #コンフィグ情報をプレディクタにセット\n",
        "\n",
        "outputs = predictor(img) # 推論実行\n",
        "\n",
        "# outputs(推論結果)の中身を可視化\n",
        "v = Visualizer(img[:,:,::-1], MetadataCatalog.get(cfg.DATASETS.TRAIN[0]), scale=1.2)\n",
        "out = v.draw_instance_predictions(outputs[\"instances\"].to(\"cpu\"))\n",
        "cv2_imshow(out.get_image()[:, :, ::-1])"
      ]
    },
    {
      "cell_type": "code",
      "source": [
        "# outputsの中身を確認\n",
        "# 検出した骨格の座標情報が格納することがわかる\n",
        "print(outputs)"
      ],
      "metadata": {
        "id": "n3a3Xlxm071o"
      },
      "execution_count": null,
      "outputs": []
    },
    {
      "cell_type": "markdown",
      "source": [
        "# 別の画像でもう一度骨格推定を実行"
      ],
      "metadata": {
        "id": "dEqzhiRr98lm"
      }
    },
    {
      "cell_type": "code",
      "source": [
        "# 画像を読み込み\n",
        "img2 = cv2.imread('/content/drive/MyDrive/test_image2.jpg')\n",
        "\n",
        "# 画像を描画\n",
        "plt.figure(figsize=(20,24))\n",
        "plt.imshow(img2)\n",
        "plt.show()"
      ],
      "metadata": {
        "id": "eeAPH4KE0OeE"
      },
      "execution_count": null,
      "outputs": []
    },
    {
      "cell_type": "code",
      "execution_count": null,
      "metadata": {
        "id": "S69HO2e0yjYR"
      },
      "outputs": [],
      "source": [
        "# Inference with a keypoint detection model\n",
        "cfg = get_cfg()   # get a fresh new config\n",
        "cfg.merge_from_file(model_zoo.get_config_file(\"COCO-Keypoints/keypoint_rcnn_R_50_FPN_3x.yaml\"))\n",
        "cfg.MODEL.ROI_HEADS.SCORE_THRESH_TEST = 0.7  # set threshold for this model\n",
        "cfg.MODEL.WEIGHTS = model_zoo.get_checkpoint_url(\"COCO-Keypoints/keypoint_rcnn_R_50_FPN_3x.yaml\")\n",
        "predictor = DefaultPredictor(cfg)\n",
        "outputs = predictor(img2)\n",
        "v = Visualizer(img2[:,:,::-1], MetadataCatalog.get(cfg.DATASETS.TRAIN[0]), scale=1.2)\n",
        "out = v.draw_instance_predictions(outputs[\"instances\"].to(\"cpu\"))\n",
        "cv2_imshow(out.get_image()[:, :, ::-1])"
      ]
    },
    {
      "cell_type": "markdown",
      "source": [
        "# インスタンスセグメンテーションの推論実行"
      ],
      "metadata": {
        "id": "3-ZvfSQE3d1b"
      }
    },
    {
      "cell_type": "code",
      "source": [
        "# 設定の初期化\n",
        "cfg = get_cfg()\n",
        "# add project-specific config (e.g., TensorMask) here if you're not running a model in detectron2's core library\n",
        "# 学習済みモデルのロード (今回はResNet50+FPN_3x)\n",
        "cfg.merge_from_file(model_zoo.get_config_file(\"COCO-InstanceSegmentation/mask_rcnn_R_50_FPN_3x.yaml\"))\n",
        "# 閾値の設定\n",
        "cfg.MODEL.ROI_HEADS.SCORE_THRESH_TEST = 0.5  # set threshold for this model\n",
        "# Find a model from detectron2's model zoo. You can use the https://dl.fbaipublicfiles... url as well\n",
        "# ロードした学習済みモデルをモデルの重みの初期値に設定\n",
        "cfg.MODEL.WEIGHTS = model_zoo.get_checkpoint_url(\"COCO-InstanceSegmentation/mask_rcnn_R_50_FPN_3x.yaml\")\n",
        "\n",
        "# 上記コンフィグをpredictorという関数に変換\n",
        "predictor = DefaultPredictor(cfg)\n",
        "\n",
        "# im(画像)をpredictorに代入して、outputsを出力\n",
        "outputs = predictor(img)\n",
        "\n",
        "# We can use `Visualizer` to draw the predictions on the image.\n",
        "v = Visualizer(img[:, :, ::-1], MetadataCatalog.get(cfg.DATASETS.TRAIN[0]), scale=1.2)\n",
        "out = v.draw_instance_predictions(outputs[\"instances\"].to(\"cpu\"))\n",
        "cv2_imshow(out.get_image()[:, :, ::-1])"
      ],
      "metadata": {
        "id": "Xiao-cyTzU-S"
      },
      "execution_count": null,
      "outputs": []
    },
    {
      "cell_type": "markdown",
      "source": [
        "# パノプティックセグメンテーションの推論実行"
      ],
      "metadata": {
        "id": "3nZW_wKo7x6M"
      }
    },
    {
      "cell_type": "code",
      "source": [
        "# Inference with a panoptic segmentation model\n",
        "cfg = get_cfg()\n",
        "cfg.merge_from_file(model_zoo.get_config_file(\"COCO-PanopticSegmentation/panoptic_fpn_R_101_3x.yaml\"))\n",
        "cfg.MODEL.WEIGHTS = model_zoo.get_checkpoint_url(\"COCO-PanopticSegmentation/panoptic_fpn_R_101_3x.yaml\")\n",
        "predictor = DefaultPredictor(cfg)\n",
        "panoptic_seg, segments_info = predictor(img)[\"panoptic_seg\"]\n",
        "v = Visualizer(img[:, :, ::-1], MetadataCatalog.get(cfg.DATASETS.TRAIN[0]), scale=1.2)\n",
        "out = v.draw_panoptic_seg_predictions(panoptic_seg.to(\"cpu\"), segments_info)\n",
        "cv2_imshow(out.get_image()[:, :, ::-1])"
      ],
      "metadata": {
        "id": "wx9jYBkO2qL1"
      },
      "execution_count": null,
      "outputs": []
    },
    {
      "cell_type": "code",
      "source": [],
      "metadata": {
        "id": "i226FDsf5mj8"
      },
      "execution_count": null,
      "outputs": []
    }
  ],
  "metadata": {
    "accelerator": "GPU",
    "colab": {
      "provenance": [],
      "authorship_tag": "ABX9TyPNAxzpWfRz/uOVocEW4LFl",
      "include_colab_link": true
    },
    "gpuClass": "standard",
    "kernelspec": {
      "display_name": "Python 3",
      "name": "python3"
    },
    "language_info": {
      "name": "python"
    }
  },
  "nbformat": 4,
  "nbformat_minor": 0
}